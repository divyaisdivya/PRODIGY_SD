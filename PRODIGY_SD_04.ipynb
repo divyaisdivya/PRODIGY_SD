{
 "cells": [
  {
   "cell_type": "code",
   "execution_count": 22,
   "id": "2eef543d-b708-4bf0-abcc-90adfc81705a",
   "metadata": {},
   "outputs": [
    {
     "name": "stdout",
     "output_type": "stream",
     "text": [
      "2 5 8 7 3 6 9 4 1 \n",
      "6 1 9 8 2 4 3 5 7 \n",
      "4 3 7 9 1 5 2 6 8 \n",
      "3 9 5 2 7 1 4 8 6 \n",
      "7 6 2 4 9 8 1 3 5 \n",
      "8 4 1 6 5 3 7 2 9 \n",
      "1 8 4 3 6 9 5 7 2 \n",
      "5 7 6 1 4 2 8 9 3 \n",
      "9 2 3 5 8 7 6 1 4 \n"
     ]
    }
   ],
   "source": [
    "M = 9\n",
    "def puzzle(a):\n",
    "    for i in range(M):\n",
    "        for j in range(M):\n",
    "            print(a[i][j],end = \" \")\n",
    "        print()\n",
    "def solve(grid, row, col, num):\n",
    "    for x in range(9):\n",
    "        if grid[row][x] == num:\n",
    "            return False\n",
    "             \n",
    "    for x in range(9):\n",
    "        if grid[x][col] == num:\n",
    "            return False\n",
    " \n",
    " \n",
    "    startRow = row - row % 3\n",
    "    startCol = col - col % 3\n",
    "    for i in range(3):\n",
    "        for j in range(3):\n",
    "            if grid[i + startRow][j + startCol] == num:\n",
    "                return False\n",
    "    return True\n",
    " \n",
    "def Suduko(grid, row, col):\n",
    " \n",
    "    if (row == M - 1 and col == M):\n",
    "        return True\n",
    "    if col == M:\n",
    "        row += 1\n",
    "        col = 0\n",
    "    if grid[row][col] > 0:\n",
    "        return Suduko(grid, row, col + 1)\n",
    "    for num in range(1, M + 1, 1): \n",
    "     \n",
    "        if solve(grid, row, col, num):\n",
    "         \n",
    "            grid[row][col] = num\n",
    "            if Suduko(grid, row, col + 1):\n",
    "                return True\n",
    "        grid[row][col] = 0\n",
    "    return False\n",
    " \n",
    "'''0 means the cells where no value is assigned'''\n",
    "grid = [[2, 5, 0, 0, 3, 0, 9, 0, 1],\n",
    "        [0, 1, 0, 0, 0, 4, 0, 0, 0],\n",
    "    [4, 0, 7, 0, 0, 0, 2, 0, 8],\n",
    "    [0, 0, 5, 2, 0, 0, 0, 0, 0],\n",
    "    [0, 0, 0, 0, 9, 8, 1, 0, 0],\n",
    "    [0, 4, 0, 0, 0, 3, 0, 0, 0],\n",
    "    [0, 0, 0, 3, 6, 0, 0, 7, 2],\n",
    "    [0, 7, 0, 0, 0, 0, 0, 0, 3],\n",
    "    [9, 0, 3, 0, 0, 0, 6, 0, 4]]\n",
    " \n",
    "if (Suduko(grid, 0, 0)):\n",
    "    puzzle(grid)\n",
    "else:\n",
    "    print(\"Solution does not exist:(\")"
   ]
  },
  {
   "cell_type": "code",
   "execution_count": null,
   "id": "22879202-f6a5-44da-943a-be9175867bf1",
   "metadata": {},
   "outputs": [],
   "source": []
  }
 ],
 "metadata": {
  "kernelspec": {
   "display_name": "Python 3 (ipykernel)",
   "language": "python",
   "name": "python3"
  },
  "language_info": {
   "codemirror_mode": {
    "name": "ipython",
    "version": 3
   },
   "file_extension": ".py",
   "mimetype": "text/x-python",
   "name": "python",
   "nbconvert_exporter": "python",
   "pygments_lexer": "ipython3",
   "version": "3.10.10"
  }
 },
 "nbformat": 4,
 "nbformat_minor": 5
}

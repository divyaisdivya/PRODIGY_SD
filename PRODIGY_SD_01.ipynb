{
 "cells": [
  {
   "cell_type": "code",
   "execution_count": 5,
   "id": "61145b68-347b-49c0-a758-e4e709fe5155",
   "metadata": {},
   "outputs": [],
   "source": [
    "\n",
    "def temp_conversion(temp,current_unit,to_be_convered):\n",
    "    # temp is the value of temperature and to_be_convered is conversion scale\n",
    "    \n",
    "    ### Conversion from Celsius to Fahrenheit ###\n",
    "    if to_be_convered == \"F\" and current_unit == \"C\":\n",
    "        new_temp = round(9 / 5 * temp + 32, 3)\n",
    "        print(\"The converted temperature in Fahrenheit scale is \" + str(new_temp) + \" degrees\")\n",
    "        \n",
    "    ### Conversion from Fahrenheit into Celsius ###    \n",
    "    elif to_be_convered == \"C\" and current_unit == \"F\":\n",
    "        new_temp = round(5 / 9 * (temp - 32), 3)\n",
    "        print(\"The converted temperature in Celsius scale is \" + str(new_temp) + \" degrees\")\n",
    "        \n",
    "    ### Conversion from Celsius to Kelvin ###    \n",
    "    elif to_be_convered == \"K\" and current_unit == \"C\":\n",
    "        new_temp = round(temp + 273.15, 3)\n",
    "        print(\"The converted temperature in Kelvin scale is \" + str(new_temp) + \" degrees\")\n",
    "        \n",
    "    ### Conversion from Kelvin to Celsius ###    \n",
    "    elif to_be_convered == \"C\" and current_unit == \"K\":\n",
    "        new_temp = round(temp - 273.15, 3)\n",
    "        print(\"The converted temperature in Celsius scale is \" + str(new_temp) + \" degrees\")\n",
    "        \n",
    "    ### Conversion from Kelvin to Fahrenheit ###    \n",
    "    elif to_be_convered == \"F\" and current_unit == \"K\":\n",
    "        new_temp = round(9 / 5 * (temp - 273.15) + 32, 3)\n",
    "        print(\"The converted temperature in Fahrenheit scale is \" + str(new_temp) + \" degrees\")\n",
    "        \n",
    "    ### Conversion from Fahrenheit to Kelvin ###    \n",
    "    else:\n",
    "        new_temp = round(5 / 9 * (temp - 32) + 273.15, 3)\n",
    "        print(\"The converted temperature in Kelvin scale is \" + str(new_temp) + \" degrees\")\n",
    "\n"
   ]
  },
  {
   "cell_type": "code",
   "execution_count": 6,
   "id": "3670dd50-ae0f-41ec-9529-4107b36b3a5f",
   "metadata": {},
   "outputs": [
    {
     "name": "stdout",
     "output_type": "stream",
     "text": [
      "The converted temperature in Fahrenheit scale is 226.4 degrees\n"
     ]
    }
   ],
   "source": [
    "temp_conversion(108,\"C\",\"F\")"
   ]
  },
  {
   "cell_type": "code",
   "execution_count": 7,
   "id": "07e356d0-717f-4ffa-9f39-40e515e4afe7",
   "metadata": {},
   "outputs": [
    {
     "name": "stdout",
     "output_type": "stream",
     "text": [
      "The converted temperature in Fahrenheit scale is -35.437 degrees\n"
     ]
    }
   ],
   "source": [
    "temp_conversion(235.685,\"K\",\"F\")"
   ]
  },
  {
   "cell_type": "code",
   "execution_count": 8,
   "id": "1ad4cc84-6e82-48b3-8fd7-055bbe707ee9",
   "metadata": {},
   "outputs": [
    {
     "name": "stdout",
     "output_type": "stream",
     "text": [
      "The converted temperature in Kelvin scale is 281.858 degrees\n"
     ]
    }
   ],
   "source": [
    "temp_conversion(47.674,\"F\",\"K\")"
   ]
  },
  {
   "cell_type": "code",
   "execution_count": 9,
   "id": "71f27136-80ad-4e05-93ca-876b4cdc6a37",
   "metadata": {},
   "outputs": [
    {
     "name": "stdout",
     "output_type": "stream",
     "text": [
      "The converted temperature in Celsius scale is 402.167 degrees\n"
     ]
    }
   ],
   "source": [
    "temp_conversion(755.9,\"F\",\"C\")"
   ]
  },
  {
   "cell_type": "code",
   "execution_count": null,
   "id": "5f18a322-ab72-445b-bdfc-41b61d3c9454",
   "metadata": {},
   "outputs": [],
   "source": []
  }
 ],
 "metadata": {
  "kernelspec": {
   "display_name": "Python 3 (ipykernel)",
   "language": "python",
   "name": "python3"
  },
  "language_info": {
   "codemirror_mode": {
    "name": "ipython",
    "version": 3
   },
   "file_extension": ".py",
   "mimetype": "text/x-python",
   "name": "python",
   "nbconvert_exporter": "python",
   "pygments_lexer": "ipython3",
   "version": "3.10.10"
  }
 },
 "nbformat": 4,
 "nbformat_minor": 5
}
